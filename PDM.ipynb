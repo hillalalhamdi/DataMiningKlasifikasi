{
  "nbformat": 4,
  "nbformat_minor": 0,
  "metadata": {
    "colab": {
      "provenance": [],
      "include_colab_link": true
    },
    "kernelspec": {
      "name": "python3",
      "display_name": "Python 3"
    },
    "language_info": {
      "name": "python"
    }
  },
  "cells": [
    {
      "cell_type": "markdown",
      "metadata": {
        "id": "view-in-github",
        "colab_type": "text"
      },
      "source": [
        "<a href=\"https://colab.research.google.com/github/hillalalhamdi/DataMiningKlasifikasi/blob/main/PDM.ipynb\" target=\"_parent\"><img src=\"https://colab.research.google.com/assets/colab-badge.svg\" alt=\"Open In Colab\"/></a>"
      ]
    },
    {
      "cell_type": "markdown",
      "source": [
        "# **EDA**"
      ],
      "metadata": {
        "id": "AGCernu4N8r-"
      }
    },
    {
      "cell_type": "code",
      "source": [
        "# === Import Library ===\n",
        "from pyspark.sql import SparkSession\n",
        "from pyspark.sql.functions import col, length, when, count, isnan, udf\n",
        "from pyspark.sql.types import StringType, IntegerType\n",
        "spark = SparkSession.builder.appName(\"NetflixReviewEDA\").getOrCreate()"
      ],
      "metadata": {
        "id": "aMq3c1tKLlAv"
      },
      "execution_count": null,
      "outputs": []
    },
    {
      "cell_type": "code",
      "source": [
        "df = spark.read.option(\"header\", True).csv(\"netflix_reviews.csv\")\n",
        "df.printSchema()\n",
        "df.show(5)"
      ],
      "metadata": {
        "id": "3v2uATiqLq-K"
      },
      "execution_count": null,
      "outputs": []
    },
    {
      "cell_type": "code",
      "source": [
        "# Cek null per kolom\n",
        "df.select([count(when(col(c).isNull() | isnan(c), c)).alias(c) for c in df.columns]).show()\n",
        "\n",
        "# Drop duplikat\n",
        "df = df.dropDuplicates()\n"
      ],
      "metadata": {
        "id": "42KaIlpDMIFP"
      },
      "execution_count": null,
      "outputs": []
    },
    {
      "cell_type": "code",
      "source": [
        "df.groupBy(\"score\").count().orderBy(\"score\").show()"
      ],
      "metadata": {
        "id": "Y1BMRP3gMORp"
      },
      "execution_count": null,
      "outputs": []
    },
    {
      "cell_type": "code",
      "source": [
        "df = df.withColumn(\"content_length\", length(col(\"content\")))\n",
        "df.select(\"content_length\").describe().show()"
      ],
      "metadata": {
        "id": "-t6kUfQ4MUf4"
      },
      "execution_count": null,
      "outputs": []
    },
    {
      "cell_type": "code",
      "source": [
        "def score_to_sentiment(score):\n",
        "    if score is None:\n",
        "        return None\n",
        "    try:\n",
        "        r = int(score)\n",
        "        if r >= 4:\n",
        "            return \"positive\"\n",
        "        elif r == 3:\n",
        "            return \"neutral\"\n",
        "        else:\n",
        "            return \"negative\"\n",
        "            #invalid=anomaly\n",
        "    except ValueError:\n",
        "        return \"invalid\"\n",
        "sentiment_udf = udf(score_to_sentiment, StringType())\n",
        "df = df.withColumn(\"sentiment\", sentiment_udf(col(\"score\")))\n",
        "df.groupBy(\"sentiment\").count().show()"
      ],
      "metadata": {
        "id": "qcM4lrVmMgmo"
      },
      "execution_count": null,
      "outputs": []
    },
    {
      "cell_type": "code",
      "source": [
        "df.groupBy(\"sentiment\").agg({\"content_length\": \"avg\"}).show()"
      ],
      "metadata": {
        "id": "TnSwTOV7M5bx"
      },
      "execution_count": null,
      "outputs": []
    },
    {
      "cell_type": "code",
      "source": [
        "from pyspark.sql.functions import to_date, month, year\n",
        "\n",
        "df = df.withColumn(\"at\", to_date(col(\"at\")))\n",
        "df.groupBy(year(\"at\").alias(\"year\"), month(\"at\").alias(\"month\")) \\\n",
        "  .agg({\"score\": \"avg\"}).orderBy(\"year\", \"month\").show()"
      ],
      "metadata": {
        "id": "VB2LkkFPNKlC"
      },
      "execution_count": null,
      "outputs": []
    },
    {
      "cell_type": "code",
      "source": [
        "df_pandas = df.select(\"score\", \"sentiment\").toPandas()\n",
        "print(df_pandas.head())"
      ],
      "metadata": {
        "id": "Uwc9tHfcNk0w"
      },
      "execution_count": null,
      "outputs": []
    },
    {
      "cell_type": "code",
      "source": [
        "import seaborn as sns\n",
        "import matplotlib.pyplot as plt\n",
        "\n",
        "sns.countplot(x=\"sentiment\", data=df_pandas)\n",
        "plt.show()"
      ],
      "metadata": {
        "id": "PxKpvuXbNrLx"
      },
      "execution_count": null,
      "outputs": []
    },
    {
      "cell_type": "markdown",
      "source": [
        "# **PREPROCESSING DATA**"
      ],
      "metadata": {
        "id": "S-wVpbFVOJJJ"
      }
    },
    {
      "cell_type": "code",
      "source": [
        "import re\n",
        "from pyspark.sql.functions import udf\n",
        "from pyspark.sql.types import StringType\n",
        "\n",
        "def clean_text(text):\n",
        "    if text is None:\n",
        "        return \"\"\n",
        "    text = text.lower()\n",
        "    text = re.sub(r'<.*?>', ' ', text)  # remove HTML tags\n",
        "    text = re.sub(r'http\\S+', '', text)  # remove URLs\n",
        "    text = re.sub(r'[^a-zA-Z\\s]', '', text)  # remove non-alphabet characters\n",
        "    text = re.sub(r'\\s+', ' ', text).strip()  # remove extra whitespace\n",
        "    return text\n",
        "\n",
        "clean_udf = udf(clean_text, StringType())\n",
        "df = df.withColumn(\"clean_sentiment\", clean_udf(col(\"sentiment\")))\n",
        "print(df.select(\"sentiment\", \"clean_sentiment\").show(5))"
      ],
      "metadata": {
        "id": "ctAGMAODCkXf",
        "colab": {
          "base_uri": "https://localhost:8080/"
        },
        "outputId": "fb74a77b-929c-43f6-cbf8-7fbe115424d0"
      },
      "execution_count": null,
      "outputs": [
        {
          "output_type": "stream",
          "name": "stdout",
          "text": [
            "+---------+---------------+\n",
            "|sentiment|clean_sentiment|\n",
            "+---------+---------------+\n",
            "| negative|       negative|\n",
            "|  neutral|        neutral|\n",
            "|  neutral|        neutral|\n",
            "| negative|       negative|\n",
            "| positive|       positive|\n",
            "+---------+---------------+\n",
            "only showing top 5 rows\n",
            "\n",
            "None\n"
          ]
        }
      ]
    },
    {
      "cell_type": "code",
      "source": [
        "if 'label' in df.columns:\n",
        "    df = df.drop('label')\n",
        "\n",
        "indexer = StringIndexer(inputCol=\"sentiment\", outputCol=\"label\", handleInvalid=\"keep\")\n",
        "df = indexer.fit(df).transform(df)\n",
        "num_classes = df.select(\"label\").distinct().count()\n",
        "\n",
        "df_model = df.select(\"clean_sentiment\", \"label\").toPandas()\n",
        "print(df_model.head())"
      ],
      "metadata": {
        "id": "aDM-qatwCraP",
        "colab": {
          "base_uri": "https://localhost:8080/"
        },
        "outputId": "a2277a46-d2b1-4b05-cc8d-e9b3c7ac2603"
      },
      "execution_count": null,
      "outputs": [
        {
          "output_type": "stream",
          "name": "stdout",
          "text": [
            "  clean_sentiment  label\n",
            "0        negative    0.0\n",
            "1         neutral    2.0\n",
            "2         neutral    2.0\n",
            "3        negative    0.0\n",
            "4        positive    1.0\n"
          ]
        }
      ]
    },
    {
      "cell_type": "code",
      "source": [
        "from tensorflow.keras.preprocessing.text import Tokenizer\n",
        "from tensorflow.keras.preprocessing.sequence import pad_sequences\n",
        "\n",
        "# Tokenisasi\n",
        "tokenizer = Tokenizer(num_words=10000, oov_token=\"<OOV>\")\n",
        "tokenizer.fit_on_texts(df_model['clean_sentiment'])\n",
        "\n",
        "sequences = tokenizer.texts_to_sequences(df_model['clean_sentiment'])\n",
        "padded_sequences = pad_sequences(sequences, maxlen=200, padding='post')\n",
        "\n",
        "# Siapkan label\n",
        "labels = df_model['label'].values\n",
        "print(padded_sequences)\n",
        "print(labels)"
      ],
      "metadata": {
        "id": "g6YpocAcE5Ty",
        "colab": {
          "base_uri": "https://localhost:8080/"
        },
        "outputId": "7d7b71d0-1294-4a34-926f-b03c06155261"
      },
      "execution_count": null,
      "outputs": [
        {
          "output_type": "stream",
          "name": "stdout",
          "text": [
            "[[2 0 0 ... 0 0 0]\n",
            " [4 0 0 ... 0 0 0]\n",
            " [4 0 0 ... 0 0 0]\n",
            " ...\n",
            " [2 0 0 ... 0 0 0]\n",
            " [2 0 0 ... 0 0 0]\n",
            " [3 0 0 ... 0 0 0]]\n",
            "[0. 2. 2. ... 0. 0. 1.]\n"
          ]
        }
      ]
    },
    {
      "cell_type": "markdown",
      "source": [
        "# **MODELING & EVALUASI**"
      ],
      "metadata": {
        "id": "ud8zXqluONif"
      }
    },
    {
      "cell_type": "code",
      "source": [
        "from tensorflow.keras.models import Sequential\n",
        "from tensorflow.keras.layers import Embedding, LSTM, Dense, Dropout\n",
        "\n",
        "# Initialize the Sequential model\n",
        "model = Sequential()\n",
        "\n",
        "model.add(Dense(64, activation='relu'))\n",
        "num_classes = df.select(\"label\").distinct().count()\n",
        "model.add(Dense(num_classes, activation='softmax'))\n",
        "print(num_classes)"
      ],
      "metadata": {
        "id": "iI1X7e2fOUit",
        "colab": {
          "base_uri": "https://localhost:8080/"
        },
        "outputId": "5e57e1a0-9719-4bf0-ae75-5877b3325fd4"
      },
      "execution_count": null,
      "outputs": [
        {
          "output_type": "stream",
          "name": "stdout",
          "text": [
            "5\n"
          ]
        }
      ]
    },
    {
      "cell_type": "code",
      "source": [
        "from sklearn.model_selection import train_test_split\n",
        "from pyspark.sql.functions import when\n",
        "\n",
        "max_class_index = num_classes - 1  # Maximum expected class index\n",
        "df = df.withColumn(\n",
        "    \"label\",\n",
        "    when(df[\"label\"] > max_class_index, max_class_index).otherwise(df[\"label\"]),\n",
        ")\n",
        "\n",
        "# Now, regenerate your training and test data from the modified DataFrame:\n",
        "df_model = df.select(\"clean_sentiment\", \"label\").toPandas()\n",
        "\n",
        "# ... (Your code for tokenization and padding) ...\n",
        "\n",
        "# Use padded_sequences instead of padded\n",
        "X_train, X_test, y_train, y_test = train_test_split(\n",
        "    padded_sequences, labels, test_size=0.2, random_state=42\n",
        ")\n",
        "print(X_train)\n",
        "print(y_train)"
      ],
      "metadata": {
        "id": "o0jy2REgFXrW",
        "colab": {
          "base_uri": "https://localhost:8080/"
        },
        "outputId": "922a67e5-92f0-47ea-b0e1-cc6ce306be3d"
      },
      "execution_count": null,
      "outputs": [
        {
          "output_type": "stream",
          "name": "stdout",
          "text": [
            "[[2 0 0 ... 0 0 0]\n",
            " [2 0 0 ... 0 0 0]\n",
            " [3 0 0 ... 0 0 0]\n",
            " ...\n",
            " [2 0 0 ... 0 0 0]\n",
            " [2 0 0 ... 0 0 0]\n",
            " [3 0 0 ... 0 0 0]]\n",
            "[0. 0. 1. ... 0. 0. 1.]\n"
          ]
        }
      ]
    },
    {
      "cell_type": "code",
      "source": [
        "from tensorflow.keras.models import Sequential\n",
        "from tensorflow.keras.layers import Embedding, LSTM, Dense, Dropout\n",
        "\n",
        "model = Sequential()\n",
        "model.add(Embedding(input_dim=10000, output_dim=128))\n",
        "model.add(LSTM(64, return_sequences=False))\n",
        "model.add(Dropout(0.5))\n",
        "model.add(Dense(64, activation='relu'))\n",
        "model.add(Dense(3, activation='softmax'))  # 3 output kelas\n",
        "model.compile(\n",
        "    loss='sparse_categorical_crossentropy',\n",
        "    optimizer='adam',\n",
        "    metrics=['accuracy']\n",
        ")\n",
        "print(model.summary())"
      ],
      "metadata": {
        "id": "QARjtWdSFs_9",
        "colab": {
          "base_uri": "https://localhost:8080/",
          "height": 307
        },
        "outputId": "dcad1460-f3b3-462a-8d02-69a8437de3c1"
      },
      "execution_count": null,
      "outputs": [
        {
          "output_type": "display_data",
          "data": {
            "text/plain": [
              "\u001b[1mModel: \"sequential_4\"\u001b[0m\n"
            ],
            "text/html": [
              "<pre style=\"white-space:pre;overflow-x:auto;line-height:normal;font-family:Menlo,'DejaVu Sans Mono',consolas,'Courier New',monospace\"><span style=\"font-weight: bold\">Model: \"sequential_4\"</span>\n",
              "</pre>\n"
            ]
          },
          "metadata": {}
        },
        {
          "output_type": "display_data",
          "data": {
            "text/plain": [
              "┏━━━━━━━━━━━━━━━━━━━━━━━━━━━━━━━━━┳━━━━━━━━━━━━━━━━━━━━━━━━┳━━━━━━━━━━━━━━━┓\n",
              "┃\u001b[1m \u001b[0m\u001b[1mLayer (type)                   \u001b[0m\u001b[1m \u001b[0m┃\u001b[1m \u001b[0m\u001b[1mOutput Shape          \u001b[0m\u001b[1m \u001b[0m┃\u001b[1m \u001b[0m\u001b[1m      Param #\u001b[0m\u001b[1m \u001b[0m┃\n",
              "┡━━━━━━━━━━━━━━━━━━━━━━━━━━━━━━━━━╇━━━━━━━━━━━━━━━━━━━━━━━━╇━━━━━━━━━━━━━━━┩\n",
              "│ embedding_3 (\u001b[38;5;33mEmbedding\u001b[0m)         │ ?                      │   \u001b[38;5;34m0\u001b[0m (unbuilt) │\n",
              "├─────────────────────────────────┼────────────────────────┼───────────────┤\n",
              "│ lstm_3 (\u001b[38;5;33mLSTM\u001b[0m)                   │ ?                      │   \u001b[38;5;34m0\u001b[0m (unbuilt) │\n",
              "├─────────────────────────────────┼────────────────────────┼───────────────┤\n",
              "│ dropout_3 (\u001b[38;5;33mDropout\u001b[0m)             │ ?                      │             \u001b[38;5;34m0\u001b[0m │\n",
              "├─────────────────────────────────┼────────────────────────┼───────────────┤\n",
              "│ dense_8 (\u001b[38;5;33mDense\u001b[0m)                 │ ?                      │   \u001b[38;5;34m0\u001b[0m (unbuilt) │\n",
              "├─────────────────────────────────┼────────────────────────┼───────────────┤\n",
              "│ dense_9 (\u001b[38;5;33mDense\u001b[0m)                 │ ?                      │   \u001b[38;5;34m0\u001b[0m (unbuilt) │\n",
              "└─────────────────────────────────┴────────────────────────┴───────────────┘\n"
            ],
            "text/html": [
              "<pre style=\"white-space:pre;overflow-x:auto;line-height:normal;font-family:Menlo,'DejaVu Sans Mono',consolas,'Courier New',monospace\">┏━━━━━━━━━━━━━━━━━━━━━━━━━━━━━━━━━┳━━━━━━━━━━━━━━━━━━━━━━━━┳━━━━━━━━━━━━━━━┓\n",
              "┃<span style=\"font-weight: bold\"> Layer (type)                    </span>┃<span style=\"font-weight: bold\"> Output Shape           </span>┃<span style=\"font-weight: bold\">       Param # </span>┃\n",
              "┡━━━━━━━━━━━━━━━━━━━━━━━━━━━━━━━━━╇━━━━━━━━━━━━━━━━━━━━━━━━╇━━━━━━━━━━━━━━━┩\n",
              "│ embedding_3 (<span style=\"color: #0087ff; text-decoration-color: #0087ff\">Embedding</span>)         │ ?                      │   <span style=\"color: #00af00; text-decoration-color: #00af00\">0</span> (unbuilt) │\n",
              "├─────────────────────────────────┼────────────────────────┼───────────────┤\n",
              "│ lstm_3 (<span style=\"color: #0087ff; text-decoration-color: #0087ff\">LSTM</span>)                   │ ?                      │   <span style=\"color: #00af00; text-decoration-color: #00af00\">0</span> (unbuilt) │\n",
              "├─────────────────────────────────┼────────────────────────┼───────────────┤\n",
              "│ dropout_3 (<span style=\"color: #0087ff; text-decoration-color: #0087ff\">Dropout</span>)             │ ?                      │             <span style=\"color: #00af00; text-decoration-color: #00af00\">0</span> │\n",
              "├─────────────────────────────────┼────────────────────────┼───────────────┤\n",
              "│ dense_8 (<span style=\"color: #0087ff; text-decoration-color: #0087ff\">Dense</span>)                 │ ?                      │   <span style=\"color: #00af00; text-decoration-color: #00af00\">0</span> (unbuilt) │\n",
              "├─────────────────────────────────┼────────────────────────┼───────────────┤\n",
              "│ dense_9 (<span style=\"color: #0087ff; text-decoration-color: #0087ff\">Dense</span>)                 │ ?                      │   <span style=\"color: #00af00; text-decoration-color: #00af00\">0</span> (unbuilt) │\n",
              "└─────────────────────────────────┴────────────────────────┴───────────────┘\n",
              "</pre>\n"
            ]
          },
          "metadata": {}
        },
        {
          "output_type": "display_data",
          "data": {
            "text/plain": [
              "\u001b[1m Total params: \u001b[0m\u001b[38;5;34m0\u001b[0m (0.00 B)\n"
            ],
            "text/html": [
              "<pre style=\"white-space:pre;overflow-x:auto;line-height:normal;font-family:Menlo,'DejaVu Sans Mono',consolas,'Courier New',monospace\"><span style=\"font-weight: bold\"> Total params: </span><span style=\"color: #00af00; text-decoration-color: #00af00\">0</span> (0.00 B)\n",
              "</pre>\n"
            ]
          },
          "metadata": {}
        },
        {
          "output_type": "display_data",
          "data": {
            "text/plain": [
              "\u001b[1m Trainable params: \u001b[0m\u001b[38;5;34m0\u001b[0m (0.00 B)\n"
            ],
            "text/html": [
              "<pre style=\"white-space:pre;overflow-x:auto;line-height:normal;font-family:Menlo,'DejaVu Sans Mono',consolas,'Courier New',monospace\"><span style=\"font-weight: bold\"> Trainable params: </span><span style=\"color: #00af00; text-decoration-color: #00af00\">0</span> (0.00 B)\n",
              "</pre>\n"
            ]
          },
          "metadata": {}
        },
        {
          "output_type": "display_data",
          "data": {
            "text/plain": [
              "\u001b[1m Non-trainable params: \u001b[0m\u001b[38;5;34m0\u001b[0m (0.00 B)\n"
            ],
            "text/html": [
              "<pre style=\"white-space:pre;overflow-x:auto;line-height:normal;font-family:Menlo,'DejaVu Sans Mono',consolas,'Courier New',monospace\"><span style=\"font-weight: bold\"> Non-trainable params: </span><span style=\"color: #00af00; text-decoration-color: #00af00\">0</span> (0.00 B)\n",
              "</pre>\n"
            ]
          },
          "metadata": {}
        },
        {
          "output_type": "stream",
          "name": "stdout",
          "text": [
            "None\n"
          ]
        }
      ]
    },
    {
      "cell_type": "code",
      "source": [
        "# Before fitting the StringIndexer, check if 'label' column exists and drop if necessary\n",
        "if 'label' in df.columns:\n",
        "    df = df.drop('label')\n",
        "\n",
        "# Now fit the StringIndexer and proceed with the rest of your code\n",
        "indexer = StringIndexer(inputCol=\"sentiment\", outputCol=\"label\", handleInvalid=\"keep\")\n",
        "df = indexer.fit(df).transform(df)\n",
        "\n",
        "# After fitting StringIndexer check and adjust your model's output layer\n",
        "num_classes = df.select(\"label\").distinct().count()\n",
        "\n",
        "model.add(Dense(num_classes, activation='softmax'))"
      ],
      "metadata": {
        "id": "aTw2b95_GIXX"
      },
      "execution_count": null,
      "outputs": []
    },
    {
      "source": [
        "from sklearn.metrics import classification_report, confusion_matrix\n",
        "import numpy as np\n",
        "import matplotlib.pyplot as plt\n",
        "import seaborn as sns\n",
        "\n",
        "# Evaluasi dasar\n",
        "loss, accuracy = model.evaluate(X_test, y_test, verbose=1)\n",
        "print(f\"Loss pada data uji: {loss:.4f}\")\n",
        "print(f\"Akurasi pada data uji: {accuracy:.4f}\")\n",
        "\n",
        "# Prediksi probabilitas\n",
        "y_pred_probs = model.predict(X_test)\n",
        "\n",
        "# Ambil kelas dengan probabilitas tertinggi\n",
        "y_pred = np.argmax(y_pred_probs, axis=1)\n",
        "\n",
        "# Laporan klasifikasi\n",
        "print(\"\\nClassification Report:\")\n",
        "print(classification_report(y_test, y_pred, target_names=[\"Negative\", \"Neutral\", \"Positive\", \"Invalid\"], zero_division=0))\n",
        "\n",
        "# Confusion Matrix\n",
        "cm = confusion_matrix(y_test, y_pred)\n",
        "\n",
        "# Plot Confusion Matrix - Update xticklabels and yticklabels as well\n",
        "plt.figure(figsize=(8,6))\n",
        "sns.heatmap(cm, annot=True, fmt='d', cmap='Blues', xticklabels=[\"Negative\", \"Neutral\", \"Positive\", \"Invalid\"], yticklabels=[\"Negative\", \"Neutral\", \"Positive\", \"Invalid\"])\n",
        "plt.title('Confusion Matrix')\n",
        "plt.xlabel('Predicted')"
      ],
      "cell_type": "code",
      "metadata": {
        "colab": {
          "base_uri": "https://localhost:8080/",
          "height": 891
        },
        "id": "bJOQJzUGYnWo",
        "outputId": "0e934110-30b1-4320-d8d9-338b7bf1e26c"
      },
      "execution_count": null,
      "outputs": [
        {
          "output_type": "stream",
          "name": "stdout",
          "text": [
            "\u001b[1m233/233\u001b[0m \u001b[32m━━━━━━━━━━━━━━━━━━━━\u001b[0m\u001b[37m\u001b[0m \u001b[1m15s\u001b[0m 65ms/step - accuracy: 0.4963 - loss: 1.5108\n",
            "Loss pada data uji: 1.5090\n",
            "Akurasi pada data uji: 0.4997\n",
            "\u001b[1m233/233\u001b[0m \u001b[32m━━━━━━━━━━━━━━━━━━━━\u001b[0m\u001b[37m\u001b[0m \u001b[1m11s\u001b[0m 48ms/step\n",
            "\n",
            "Classification Report:\n",
            "              precision    recall  f1-score   support\n",
            "\n",
            "    Negative       0.50      1.00      0.67      3726\n",
            "     Neutral       0.00      0.00      0.00      3002\n",
            "    Positive       0.00      0.00      0.00       558\n",
            "     Invalid       0.00      0.00      0.00       170\n",
            "\n",
            "    accuracy                           0.50      7456\n",
            "   macro avg       0.12      0.25      0.17      7456\n",
            "weighted avg       0.25      0.50      0.33      7456\n",
            "\n"
          ]
        },
        {
          "output_type": "execute_result",
          "data": {
            "text/plain": [
              "Text(0.5, 36.72222222222221, 'Predicted')"
            ]
          },
          "metadata": {},
          "execution_count": 48
        },
        {
          "output_type": "display_data",
          "data": {
            "text/plain": [
              "<Figure size 800x600 with 2 Axes>"
            ],
            "image/png": "[encoded data removed]"
          },
          "metadata": {}
        }
      ]
    },
    {
      "cell_type": "code",
      "source": [],
      "metadata": {
        "id": "ExTCiFQCOU7O"
      },
      "execution_count": null,
      "outputs": []
    }
  ]
}